{
  "cells": [
    {
      "cell_type": "markdown",
      "metadata": {
        "id": "view-in-github",
        "colab_type": "text"
      },
      "source": [
        "<a href=\"https://colab.research.google.com/github/Amr-Abdellatif/OCR-detection-model/blob/main/OCR_detection_model.ipynb\" target=\"_parent\"><img src=\"https://colab.research.google.com/assets/colab-badge.svg\" alt=\"Open In Colab\"/></a>"
      ]
    },
    {
      "cell_type": "markdown",
      "id": "3e46e2a8",
      "metadata": {
        "id": "3e46e2a8"
      },
      "source": [
        "# OCR detection module"
      ]
    },
    {
      "cell_type": "markdown",
      "source": [
        "\n",
        "*   we will need to install a library called tesseract from google so search for the documentation\n",
        " \n",
        "* install tesseract windows version on your local machine\n",
        "   \n",
        "* intiate your ide and follow my steps\n",
        "\n",
        "\n",
        " "
      ],
      "metadata": {
        "id": "_HagycB5m54n"
      },
      "id": "_HagycB5m54n"
    },
    {
      "cell_type": "markdown",
      "id": "3ee47eb9",
      "metadata": {
        "id": "3ee47eb9"
      },
      "source": [
        "## 1. install our libraries"
      ]
    },
    {
      "cell_type": "code",
      "execution_count": null,
      "id": "893ed9bb",
      "metadata": {
        "id": "893ed9bb"
      },
      "outputs": [],
      "source": [
        "!pip install pytesseract  #version == 0.3.10\n",
        "!pip install opencv       #version == 4.6 "
      ]
    },
    {
      "cell_type": "markdown",
      "id": "f8dc8c00",
      "metadata": {
        "id": "f8dc8c00"
      },
      "source": [
        "## 2. import our libraries"
      ]
    },
    {
      "cell_type": "code",
      "execution_count": null,
      "id": "9df99284",
      "metadata": {
        "id": "9df99284"
      },
      "outputs": [],
      "source": [
        "import cv2\n",
        "import pytesseract"
      ]
    },
    {
      "cell_type": "markdown",
      "id": "3ec4e26d",
      "metadata": {
        "id": "3ec4e26d"
      },
      "source": [
        "## 3. use the tesseract.exe file and import out image for OCR "
      ]
    },
    {
      "cell_type": "code",
      "execution_count": null,
      "id": "67e058f9",
      "metadata": {
        "id": "67e058f9"
      },
      "outputs": [],
      "source": [
        "pytesseract.pytesseract.tesseract_cmd = 'C:\\\\Program Files\\\\Tesseract-OCR\\\\tesseract.exe'\n",
        "img = cv2.imread(r'D:\\projects\\ocr\\1.png')\n",
        "img = cv2.cvtColor(img, cv2.COLOR_BGR2RGB)"
      ]
    },
    {
      "cell_type": "markdown",
      "id": "e56dbf15",
      "metadata": {
        "id": "e56dbf15"
      },
      "source": [
        "## 4. detecting letter and numbers through built in function"
      ]
    },
    {
      "cell_type": "code",
      "execution_count": null,
      "id": "84318ce1",
      "metadata": {
        "id": "84318ce1"
      },
      "outputs": [],
      "source": [
        "print(pytesseract.image_to_string(img))"
      ]
    },
    {
      "cell_type": "markdown",
      "id": "8b4019c0",
      "metadata": {
        "id": "8b4019c0"
      },
      "source": [
        "## 5. put boxes on the detected numbers and letters"
      ]
    },
    {
      "cell_type": "code",
      "execution_count": null,
      "id": "29481b91",
      "metadata": {
        "id": "29481b91"
      },
      "outputs": [],
      "source": [
        "#detecting letters and numbers\n",
        "\n",
        "himg,wimg,_ = img.shape\n",
        "boxes = pytesseract.image_to_boxes(img)\n",
        "for b in boxes.splitlines():\n",
        "    print(b)\n",
        "    b = b.split(' ')\n",
        "    print(b)\n",
        "    x,y,w,h = int(b[1]),int(b[2]),int(b[3]),int(b[4])\n",
        "    cv2.rectangle(img,(x,himg-y),(w,himg-h),(0,0,255),2)\n",
        "    cv2.putText(img,b[0],(x,himg-y+30),cv2.FONT_HERSHEY_COMPLEX,1,(50,50,255),1)\n",
        "\n",
        "cv2.imshow('result',img)\n",
        "cv2.waitKey(0)"
      ]
    },
    {
      "cell_type": "markdown",
      "id": "1489a78d",
      "metadata": {
        "id": "1489a78d"
      },
      "source": [
        "## 6. put boxes on the detected words as whole"
      ]
    },
    {
      "cell_type": "code",
      "execution_count": null,
      "id": "cc1a98c3",
      "metadata": {
        "id": "cc1a98c3"
      },
      "outputs": [],
      "source": [
        "#detecting whole sections of letter and numbers\n",
        "\n",
        "himg,wimg,_ = img.shape\n",
        "boxes = pytesseract.image_to_data(img)\n",
        "for x,b in enumerate(boxes.splitlines()):\n",
        "    if x!= 0:\n",
        "        b = b.split()\n",
        "        print(b)\n",
        "        if len(b)==12:\n",
        "            x,y,w,h = int(b[6]),int(b[7]),int(b[8]),int(b[9])\n",
        "            cv2.rectangle(img,(x,y),(w+x,h+y),(0,0,255),2)\n",
        "            cv2.putText(img,b[11],(x,y),cv2.FONT_HERSHEY_COMPLEX,1,(50,50,255),1)\n",
        "\n",
        "\n",
        "\n",
        "\n",
        "cv2.imshow('result',img)\n",
        "cv2.waitKey(0)\n",
        "\n"
      ]
    }
  ],
  "metadata": {
    "kernelspec": {
      "display_name": "Python 3 (ipykernel)",
      "language": "python",
      "name": "python3"
    },
    "language_info": {
      "codemirror_mode": {
        "name": "ipython",
        "version": 3
      },
      "file_extension": ".py",
      "mimetype": "text/x-python",
      "name": "python",
      "nbconvert_exporter": "python",
      "pygments_lexer": "ipython3",
      "version": "3.8.8"
    },
    "colab": {
      "provenance": [],
      "include_colab_link": true
    }
  },
  "nbformat": 4,
  "nbformat_minor": 5
}